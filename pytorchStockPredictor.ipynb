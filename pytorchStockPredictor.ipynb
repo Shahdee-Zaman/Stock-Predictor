{
  "nbformat": 4,
  "nbformat_minor": 0,
  "metadata": {
    "colab": {
      "provenance": [],
      "toc_visible": true,
      "authorship_tag": "ABX9TyNRLA4QMYT/RUJksL79dwrF"
    },
    "kernelspec": {
      "name": "python3",
      "display_name": "Python 3"
    },
    "language_info": {
      "name": "python"
    }
  },
  "cells": [
    {
      "cell_type": "code",
      "execution_count": 51,
      "metadata": {
        "colab": {
          "base_uri": "https://localhost:8080/"
        },
        "id": "elCCK8OpGKpU",
        "outputId": "e7f5e29f-9a7a-4855-b9fc-b67a7ded11f6"
      },
      "outputs": [
        {
          "output_type": "stream",
          "name": "stderr",
          "text": [
            "/tmp/ipython-input-1468269911.py:8: FutureWarning: YF.download() has changed argument auto_adjust default to True\n",
            "  spy = yf.download(ticker, start= '2020-1-1', end='2025-1-1', repair='True')\n",
            "\r[*********************100%***********************]  1 of 1 completed\n"
          ]
        },
        {
          "output_type": "execute_result",
          "data": {
            "text/plain": [
              "<torch.utils.data.dataset.TensorDataset at 0x7a920d5a5ee0>"
            ]
          },
          "metadata": {},
          "execution_count": 51
        }
      ],
      "source": [
        "import torch\n",
        "import yfinance as yf\n",
        "from torch.utils.data import TensorDataset, DataLoader\n",
        "import torch.nn as nn\n",
        "\n",
        "# Ticker Choice and Download\n",
        "ticker = 'SPY'\n",
        "spy = yf.download(ticker, start= '2020-1-1', end='2025-1-1', repair='True')\n",
        "\n",
        "# Create a Difference Column to keep track of Daily Price Changes\n",
        "open_data = spy[\"Open\"].values\n",
        "close_data = spy[\"Close\"].values\n",
        "day_change = close_data-open_data\n",
        "spy[\"Difference\"] = day_change\n",
        "\n",
        "\n",
        "# Add all data to dataset\n",
        "close_tensor = torch.tensor(close_data, dtype= torch.float32).unsqueeze(1)\n",
        "open_tensor = torch.tensor(open_data, dtype= torch.float32).unsqueeze(1)\n",
        "low_tensor = torch.tensor(spy[\"Low\"].values, dtype= torch.float32).unsqueeze(1)\n",
        "high_tensor = torch.tensor(spy[\"High\"].values, dtype= torch.float32).unsqueeze(1)\n",
        "volume_tensor = torch.tensor(spy[\"Volume\"].values, dtype= torch.float32).unsqueeze(1)\n",
        "difference_tensor = torch.tensor(spy[\"Difference\"].values, dtype= torch.float32).unsqueeze(1)\n",
        "dataset = TensorDataset(close_tensor, open_tensor, low_tensor, high_tensor, volume_tensor, difference_tensor)\n",
        "dataloader = DataLoader(dataset=dataset, batch_size=32, shuffle=False)\n",
        "\n",
        "\n",
        "\n"
      ]
    }
  ]
}